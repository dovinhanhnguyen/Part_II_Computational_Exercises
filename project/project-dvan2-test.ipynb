{
 "cells": [
  {
   "cell_type": "code",
   "execution_count": 2,
   "metadata": {},
   "outputs": [],
   "source": [
    "# Import modules\n",
    "import numpy as np\n",
    "import matplotlib.pyplot as plt"
   ]
  },
  {
   "cell_type": "code",
   "execution_count": 2,
   "metadata": {},
   "outputs": [],
   "source": [
    "# Class representing a 2D Ising model\n",
    "class Ising:\n",
    "    def __init__(self, N, J, H):\n",
    "        self.lattice = np.random.choice([-1,1], size=(N,N)) # initial state\n",
    "        self.N = N # dimension\n",
    "        self.J = np.abs(J) # interaction energy, non-negative by definition\n",
    "        self.H = H # external field"
   ]
  },
  {
   "cell_type": "code",
   "execution_count": 3,
   "metadata": {},
   "outputs": [],
   "source": [
    "# Function to calculate energy change when spin(i,j) is flipped, assuming periodic boundary conditions\n",
    "def energy_change_of_flip(state, pos_i, pos_j):\n",
    "    return 2*state.lattice[pos_i,pos_j]*(state.J*(state.lattice[pos_i,(pos_j+1)%state.N] + state.lattice[(pos_i-1)%state.N,pos_j] + state.lattice[(pos_i+1)%state.N,pos_j] + state.lattice[pos_i,(pos_j-1)%state.N])+state.H)"
   ]
  },
  {
   "cell_type": "code",
   "execution_count": 4,
   "metadata": {},
   "outputs": [],
   "source": [
    "# Monte Carlo sweep using Metropolis algorithm\n",
    "def monte_carlo_sweep(state, temperature):\n",
    "    for i in range(len(state.lattice)**2):\n",
    "        # pick a spin randomly and calculate energy change if it's flipped\n",
    "        pos_i = np.random.randint(0,len(state.lattice))\n",
    "        pos_j = np.random.randint(0,len(state.lattice))\n",
    "        delta_E = energy_change_of_flip(state,pos_i,pos_j)\n",
    "        \n",
    "        # to flip or not to flip?\n",
    "        if delta_E < 0 or np.exp(-delta_E/temperature) > np.random.random():\n",
    "            state.lattice[pos_i,pos_j] *= -1"
   ]
  },
  {
   "cell_type": "code",
   "execution_count": 5,
   "metadata": {},
   "outputs": [],
   "source": [
    "# Function to calculate magnetisation\n",
    "def calculate_magnetisation(state):\n",
    "    return np.sum(state.lattice)"
   ]
  },
  {
   "cell_type": "code",
   "execution_count": 6,
   "metadata": {},
   "outputs": [],
   "source": [
    "# Function to calculate energy\n",
    "def calculate_energy(state):\n",
    "    interaction_energy = 0.0\n",
    "    for pos_i in range(len(state.lattice)):\n",
    "        for pos_j in range(len(state.lattice)):\n",
    "            interaction_energy += -state.J*state.lattice[pos_i,pos_j]*(state.lattice[pos_i,(pos_j+1)%state.N] + state.lattice[(pos_i-1)%state.N,pos_j] + state.lattice[(pos_i+1)%state.N,pos_j] + state.lattice[pos_i,(pos_j-1)%state.N])\n",
    "    interaction_energy *= 0.5 # avoid double counting\n",
    "    \n",
    "    magnetisation_energy = -state.H*calculate_magnetisation(state)\n",
    "    \n",
    "    return interaction_energy+magnetisation_energy"
   ]
  },
  {
   "cell_type": "code",
   "execution_count": null,
   "metadata": {},
   "outputs": [],
   "source": [
    "# Dependence of mean magnetisation and energy on temperature, H=0\n",
    "N_range = [2, 8, 14, 20]\n",
    "J = 1.0\n",
    "H = 0.0\n",
    "\n",
    "temperature_range = np.linspace(0.5,4.0,50)  # 40 values of temperature between 0.5 and 4.0\n",
    "number_of_equilibrating_sweeps = 1000\n",
    "number_of_sampling_sweeps = 500\n",
    "\n",
    "# arrays to store average energy, magnetisation, specific heat, susceptibility\n",
    "average_energy = np.zeros((len(N_range),len(temperature_range)))\n",
    "average_magnetisation = np.zeros((len(N_range),len(temperature_range)))\n",
    "average_heat_capacity = np.zeros((len(N_range),len(temperature_range)))\n",
    "average_susceptibility = np.zeros((len(N_range),len(temperature_range)))\n",
    "\n",
    "for N_index in range(len(N_range)):\n",
    "    for t_index in range(len(temperature_range)):\n",
    "        state = Ising(N_range[N_index],J,H)\n",
    "\n",
    "        # wait for the system to settle down\n",
    "        for sweep in range(number_of_equilibrating_sweeps):\n",
    "            monte_carlo_sweep(state,temperature_range[t_index])\n",
    "            if sweep%100 == 0: # output checkpoint\n",
    "                print('T = {0}, equilibrating step {1}'.format(temperature_range[t_index],sweep))\n",
    "\n",
    "        sum_of_energy = 0.0\n",
    "        sum_of_energy_squared = 0.0\n",
    "        sum_of_magnetisation = 0.0\n",
    "        sum_of_magnetisation_squared = 0.0\n",
    "\n",
    "        # start sampling data\n",
    "        for sweep in range(number_of_sampling_sweeps):\n",
    "            monte_carlo_sweep(state,temperature_range[t_index])\n",
    "\n",
    "            # store data\n",
    "            E = calculate_energy(state)\n",
    "            M = np.abs(calculate_magnetisation(state))\n",
    "            sum_of_energy += E\n",
    "            sum_of_energy_squared += E**2\n",
    "            sum_of_magnetisation += M\n",
    "            sum_of_magnetisation_squared += M**2\n",
    "\n",
    "            if sweep%100 == 0: # output checkpoint\n",
    "                print('T = {0}, sampling step {1}'.format(temperature_range[t_index],sweep))\n",
    "\n",
    "        # average over number of sweeps\n",
    "        average_energy[N_index,t_index] = (sum_of_energy/number_of_sampling_sweeps)/(state.N**2)\n",
    "        average_magnetisation[N_index,t_index] = (sum_of_magnetisation/number_of_sampling_sweeps)/(state.N**2)\n",
    "        average_heat_capacity[N_index,t_index] = ((sum_of_energy_squared/number_of_sampling_sweeps-(sum_of_energy/number_of_sampling_sweeps)**2)/(temperature_range[t_index]**2))/(state.N**2)\n",
    "        average_susceptibility[N_index,t_index] = ((sum_of_magnetisation_squared/number_of_sampling_sweeps-(sum_of_magnetisation/number_of_sampling_sweeps)**2)/temperature_range[t_index])/(state.N**2)\n",
    "    \n",
    "    print('N = {0} done'.format(N_range[N_index]))"
   ]
  },
  {
   "cell_type": "code",
   "execution_count": null,
   "metadata": {},
   "outputs": [],
   "source": [
    "# Plot of energy, magnetisation, heat capacity, susceptibility against temperature\n",
    "for N_index in range(len(N_range)):\n",
    "    plt.plot(temperature_range,average_energy[N_index,:],'-o',label='N = {0}'.format(N_range[N_index]))\n",
    "plt.legend(loc='upper right')\n",
    "plt.xlabel('Temperature')\n",
    "plt.ylabel('Energy')\n",
    "plt.savefig('plots/Energy_vs_Temperature_zeroH.png')\n",
    "plt.figure()\n",
    "\n",
    "for N_index in range(len(N_range)):\n",
    "    plt.plot(temperature_range,average_magnetisation[N_index,:],'-o',label='N = {0}'.format(N_range[N_index]))\n",
    "plt.legend(loc='upper right')\n",
    "plt.xlabel('Temperature')\n",
    "plt.ylabel('Magnetisation')\n",
    "plt.savefig('plots/Magnetisation_vs_Temperature_zeroH.png')\n",
    "plt.figure()\n",
    "\n",
    "for N_index in range(len(N_range)):\n",
    "    plt.plot(temperature_range,average_heat_capacity[N_index,:],'-o',label='N = {0}'.format(N_range[N_index]))\n",
    "plt.legend(loc='upper right')\n",
    "plt.xlabel('Temperature')\n",
    "plt.ylabel('Heat Capacity')\n",
    "plt.savefig('plots/Heat_Capacity_vs_Temperature_zeroH.png')\n",
    "plt.figure()\n",
    "\n",
    "for N_index in range(len(N_range)):\n",
    "    plt.plot(temperature_range,average_susceptibility[N_index,:],'-o',label='N = {0}'.format(N_range[N_index]))\n",
    "plt.legend(loc='upper right')\n",
    "plt.xlabel('Temperature')\n",
    "plt.ylabel('Susceptibility')\n",
    "plt.savefig('plots/Susceptibility_vs_Temperature_zeroH.png')\n",
    "plt.figure()"
   ]
  },
  {
   "cell_type": "code",
   "execution_count": 7,
   "metadata": {},
   "outputs": [],
   "source": [
    "# Metropolis algorithm\n",
    "def Metropolis_algorithm(N_range, J, H, T_range, no_of_sweeps):\n",
    "    # arrays to store magnetisation and energy time series\n",
    "    M = np.zeros((len(N_range),len(T_range),no_of_sweeps))\n",
    "    E = np.zeros((len(N_range),len(T_range),no_of_sweeps))\n",
    "    M_normalized = np.zeros((len(N_range),len(T_range),no_of_sweeps))\n",
    "    E_normalized = np.zeros((len(N_range),len(T_range),no_of_sweeps))\n",
    "    \n",
    "    # Monte Carlo sweeps\n",
    "    for N_index in range(len(N_range)):\n",
    "        for T_index in range(len(T_range)):\n",
    "            state = Ising(N_range[N_index],J,H)\n",
    "            for sweep in range(no_of_sweeps): # run!\n",
    "                monte_carlo_sweep(state,T_range[T_index])\n",
    "                \n",
    "                M[N_index,T_index,sweep] = calculate_magnetisation(state)\n",
    "                E[N_index,T_index,sweep] = calculate_energy(state)\n",
    "                M_normalized[N_index,T_index,sweep] = M[N_index,T_index,sweep]/(state.N**2)\n",
    "                E_normalized[N_index,T_index,sweep] = E[N_index,T_index,sweep]/(state.N**2)\n",
    "                \n",
    "                if sweep%100 == 0: # output checkpoints\n",
    "                    print('N = {0}, T = {1}, sweep = {2}'.format(N_range[N_index],T_range[T_index],sweep))\n",
    "    \n",
    "    return M, E, M_normalized, E_normalized"
   ]
  },
  {
   "cell_type": "code",
   "execution_count": 8,
   "metadata": {},
   "outputs": [],
   "source": [
    "# Plot evolution of data over time\n",
    "def plot_time_series(data, N_range, T_range, yname):\n",
    "    for N_index in range(len(N_range)):\n",
    "        for T_index in range(len(T_range)):\n",
    "            plt.plot(range(len(data[N_index,T_index,:])),data[N_index,T_index,:],label='N = {0}, T = {1}'.format(N_range[N_index],T_range[T_index]))\n",
    "        plt.legend(loc='best')\n",
    "        plt.xlabel('Sweeps')\n",
    "        plt.ylabel(yname)\n",
    "        plt.savefig('plots/{0} vs Sweeps {1}.png'.format(yname,N_range[N_index]))\n",
    "        plt.figure()"
   ]
  },
  {
   "cell_type": "code",
   "execution_count": null,
   "metadata": {},
   "outputs": [],
   "source": [
    "# Set parameters\n",
    "Ns = [4, 8, 12]\n",
    "J = 1.0\n",
    "H = 0.0\n",
    "Ts = np.linspace(0.5,4.0,50)\n",
    "sweeps = 2000\n",
    "\n",
    "# Run the experiment\n",
    "magnetisation, energy, magnetisation_per_site, energy_per_site = Metropolis_algorithm(Ns,J,H,Ts,sweeps)"
   ]
  },
  {
   "cell_type": "code",
   "execution_count": 10,
   "metadata": {},
   "outputs": [
    {
     "ename": "NameError",
     "evalue": "name 'magnetisation_per_site' is not defined",
     "output_type": "error",
     "traceback": [
      "\u001b[1;31m---------------------------------------------------------------------------\u001b[0m",
      "\u001b[1;31mNameError\u001b[0m                                 Traceback (most recent call last)",
      "\u001b[1;32m<ipython-input-10-bc10c74cf4ed>\u001b[0m in \u001b[0;36m<module>\u001b[1;34m()\u001b[0m\n\u001b[0;32m      1\u001b[0m \u001b[1;31m# Plot time evolution\u001b[0m\u001b[1;33m\u001b[0m\u001b[1;33m\u001b[0m\u001b[0m\n\u001b[1;32m----> 2\u001b[1;33m \u001b[0mplot_time_series\u001b[0m\u001b[1;33m(\u001b[0m\u001b[0mmagnetisation_per_site\u001b[0m\u001b[1;33m,\u001b[0m\u001b[0mNs\u001b[0m\u001b[1;33m,\u001b[0m\u001b[0mTs\u001b[0m\u001b[1;33m,\u001b[0m\u001b[1;34m'Magnetisation per site'\u001b[0m\u001b[1;33m)\u001b[0m\u001b[1;33m\u001b[0m\u001b[0m\n\u001b[0m",
      "\u001b[1;31mNameError\u001b[0m: name 'magnetisation_per_site' is not defined"
     ]
    }
   ],
   "source": [
    "# Plot time evolution\n",
    "plot_time_series(magnetisation_per_site,Ns,Ts,'Magnetisation per site')"
   ]
  },
  {
   "cell_type": "code",
   "execution_count": 28,
   "metadata": {},
   "outputs": [
    {
     "data": {
      "text/plain": [
       "0"
      ]
     },
     "execution_count": 28,
     "metadata": {},
     "output_type": "execute_result"
    }
   ],
   "source": [
    "a = 3000\n",
    "a%3000"
   ]
  }
 ],
 "metadata": {
  "kernelspec": {
   "display_name": "Python 3",
   "language": "python",
   "name": "python3"
  },
  "language_info": {
   "codemirror_mode": {
    "name": "ipython",
    "version": 3
   },
   "file_extension": ".py",
   "mimetype": "text/x-python",
   "name": "python",
   "nbconvert_exporter": "python",
   "pygments_lexer": "ipython3",
   "version": "3.6.4"
  }
 },
 "nbformat": 4,
 "nbformat_minor": 2
}
