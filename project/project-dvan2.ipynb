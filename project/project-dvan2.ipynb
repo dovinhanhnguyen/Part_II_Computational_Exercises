{
 "cells": [
  {
   "cell_type": "markdown",
   "metadata": {},
   "source": [
    "# Surveying Telescopes\n",
    "\n",
    "Analysing data from an optical interferometer to determine the 3-dimensional locations of the telescopes.\n",
    "\n",
    "Data are a complete year (2012) of optical path delay observations from the CHARA interferometer in California (see http://www.chara.gsu.edu)."
   ]
  },
  {
   "cell_type": "code",
   "execution_count": 1,
   "metadata": {},
   "outputs": [],
   "source": [
    "import sys\n",
    "import pandas as pd\n",
    "import numpy as np\n",
    "from scipy import optimize\n",
    "import matplotlib.pyplot as plt"
   ]
  },
  {
   "cell_type": "code",
   "execution_count": 2,
   "metadata": {},
   "outputs": [],
   "source": [
    "# function to load file\n",
    "def load_file(filename):\n",
    "    try:\n",
    "        f = open(filename, 'rb')\n",
    "    except IOError:\n",
    "        print('Cannot open', filename)\n",
    "        sys.exit()\n",
    "    with f:\n",
    "        return pd.read_csv(f, index_col=0)"
   ]
  },
  {
   "cell_type": "code",
   "execution_count": 3,
   "metadata": {},
   "outputs": [],
   "source": [
    "# convert day,hour,minute,second to second\n",
    "def create_time_series(dataframe):\n",
    "    day_column = np.zeros(((len(dataframe)),1), dtype=float)\n",
    "    time_column = np.zeros(((len(dataframe)),1), dtype=float)\n",
    "    \n",
    "    for i in range(0,len(dataframe)-1):\n",
    "        if dataframe['h'].iloc[i+1] < dataframe['h'].iloc[i]:\n",
    "            day_column[i+1] = day_column[i]+1\n",
    "        else:\n",
    "            day_column[i+1] = day_column[i]\n",
    "    \n",
    "    for i in range(0,len(dataframe)):\n",
    "        time_column[i] = day_column[i]*24.0*3600.0+dataframe['h'].iloc[i]*3600.0+dataframe['m'].iloc[i]*60.0+dataframe['s'].iloc[i]\n",
    "    \n",
    "    return dataframe.assign(day=day_column, time=time_column)"
   ]
  },
  {
   "cell_type": "code",
   "execution_count": 20,
   "metadata": {},
   "outputs": [],
   "source": [
    "df = load_file('2012_S1W2.csv')\n",
    "df = create_time_series(df)"
   ]
  },
  {
   "cell_type": "code",
   "execution_count": 21,
   "metadata": {},
   "outputs": [],
   "source": [
    "# fit function\n",
    "def fit_function(xdata, Bx, By, Bz, D_POP, A1, w1, omega1, A2, w2, omega2):\n",
    "    Sx,Sy,Sz,t = xdata\n",
    "    return Sx*Bx+Sy*By+Sz*Bz+D_POP+A1*np.cos(w1*t+omega1)*A2*np.cos(w2*t+omega2)"
   ]
  },
  {
   "cell_type": "code",
   "execution_count": 22,
   "metadata": {},
   "outputs": [
    {
     "name": "stdout",
     "output_type": "stream",
     "text": [
      "[-6.90950419e+01  1.99336881e+02  4.57925881e-01  8.46667131e+00\n",
      " -7.69769046e-04  1.00003735e+00  1.18342861e+00  1.60306999e+00\n",
      "  9.99962858e-01  1.90169861e+00]\n"
     ]
    }
   ],
   "source": [
    "# fitting data\n",
    "xdata = [np.array(np.cos(np.radians(df['el']))*np.sin(np.radians(df['az']))),\\\n",
    "         np.array(np.cos(np.radians(df['el']))*np.cos(np.radians(df['az']))),\\\n",
    "         np.array(np.sin(np.radians(df['el']))),\\\n",
    "         np.array(df['time'])]\n",
    "\n",
    "ydata = np.array(df['delay2']-df['delay1'])\n",
    "\n",
    "parameters, cov = optimize.curve_fit(fit_function, xdata, ydata)\n",
    "print(parameters)"
   ]
  }
 ],
 "metadata": {
  "kernelspec": {
   "display_name": "Python 3",
   "language": "python",
   "name": "python3"
  },
  "language_info": {
   "codemirror_mode": {
    "name": "ipython",
    "version": 3
   },
   "file_extension": ".py",
   "mimetype": "text/x-python",
   "name": "python",
   "nbconvert_exporter": "python",
   "pygments_lexer": "ipython3",
   "version": "3.6.4"
  }
 },
 "nbformat": 4,
 "nbformat_minor": 2
}
