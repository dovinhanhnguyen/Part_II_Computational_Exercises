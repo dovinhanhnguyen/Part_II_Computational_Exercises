{
 "cells": [
  {
   "cell_type": "code",
   "execution_count": 1,
   "metadata": {},
   "outputs": [],
   "source": [
    "# Import modules\n",
    "import numpy as np\n",
    "import matplotlib.pyplot as plt"
   ]
  },
  {
   "cell_type": "code",
   "execution_count": 50,
   "metadata": {},
   "outputs": [],
   "source": [
    "# Create a random 2D state of spins\n",
    "def initialise_state(N):\n",
    "    return np.random.choice([-1,1], size=(N,N))"
   ]
  },
  {
   "cell_type": "code",
   "execution_count": 67,
   "metadata": {},
   "outputs": [],
   "source": [
    "# Calculate energy change when spin(i,j) is flipped, assuming periodic boundary conditions\n",
    "def delta_E(state, pos_i, pos_j, J, H, N):\n",
    "    return 2*state[pos_i,pos_j]*(J*(state[pos_i,(pos_j+1)%N] + state[(pos_i-1)%N,pos_j] + state[(pos_i+1)%N,pos_j] + state[pos_i,(pos_j-1)%N])+H)"
   ]
  },
  {
   "cell_type": "code",
   "execution_count": null,
   "metadata": {},
   "outputs": [],
   "source": []
  }
 ],
 "metadata": {
  "kernelspec": {
   "display_name": "Python 3",
   "language": "python",
   "name": "python3"
  },
  "language_info": {
   "codemirror_mode": {
    "name": "ipython",
    "version": 3
   },
   "file_extension": ".py",
   "mimetype": "text/x-python",
   "name": "python",
   "nbconvert_exporter": "python",
   "pygments_lexer": "ipython3",
   "version": "3.6.4"
  }
 },
 "nbformat": 4,
 "nbformat_minor": 2
}
