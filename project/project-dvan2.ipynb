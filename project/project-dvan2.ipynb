{
 "cells": [
  {
   "cell_type": "code",
   "execution_count": 215,
   "metadata": {},
   "outputs": [],
   "source": [
    "# Import modules\n",
    "import numpy as np\n",
    "import matplotlib.pyplot as plt"
   ]
  },
  {
   "cell_type": "code",
   "execution_count": 216,
   "metadata": {},
   "outputs": [],
   "source": [
    "# Class representing a 2D Ising model\n",
    "class Ising:\n",
    "    def __init__(self, N, J, H):\n",
    "        self.lattice = np.random.choice([-1,1], size=(N,N)) # initial state\n",
    "        self.N = N # dimension\n",
    "        self.J = np.abs(J) # interaction energy, non-negative by definition\n",
    "        self.H = H # external field"
   ]
  },
  {
   "cell_type": "code",
   "execution_count": 235,
   "metadata": {},
   "outputs": [],
   "source": [
    "# Function to calculate energy change when spin(i,j) is flipped, assuming periodic boundary conditions\n",
    "def energy_change_of_flip(state, pos_i, pos_j):\n",
    "    return 2*state.lattice[pos_i,pos_j]*(state.J*(state.lattice[pos_i,(pos_j+1)%state.N] + state.lattice[(pos_i-1)%state.N,pos_j] + state.lattice[(pos_i+1)%state.N,pos_j] + state.lattice[pos_i,(pos_j-1)%state.N])+state.H)"
   ]
  },
  {
   "cell_type": "code",
   "execution_count": 330,
   "metadata": {},
   "outputs": [],
   "source": [
    "def metropolis_sweep(state, temperature):\n",
    "    \n",
    "    # a sweep\n",
    "    for i in range(len(state.lattice)**2):\n",
    "        # pick a spin randomly and calculate energy change if it's flipped\n",
    "        pos_i = np.random.randint(0,len(state.lattice))\n",
    "        pos_j = np.random.randint(0,len(state.lattice))\n",
    "        delta_E = energy_change_of_flip(state,pos_i,pos_j)\n",
    "        \n",
    "        # to flip or not to flip?\n",
    "        if delta_E < 0 or np.exp(-delta_E/temperature) > np.random.random():\n",
    "            state.lattice[pos_i,pos_j] *= -1\n",
    "    \n",
    "    # record relevant variables\n",
    "    magnetisation = np.sum(state.lattice)\n",
    "    \n",
    "    interaction_energy = 0.0\n",
    "    for pos_i in range(len(state.lattice)):\n",
    "        for pos_j in range(len(state.lattice)):\n",
    "            interaction_energy += -state.J*state.lattice[pos_i,pos_j]*(state.lattice[pos_i,(pos_j+1)%state.N] + state.lattice[(pos_i-1)%state.N,pos_j] + state.lattice[(pos_i+1)%state.N,pos_j] + state.lattice[pos_i,(pos_j-1)%state.N])\n",
    "    interaction_energy *= 0.5 # avoid double counting\n",
    "    \n",
    "    total_energy = interaction_energy-state.H*magnetisation\n",
    "    return total_energy, magnetisation"
   ]
  },
  {
   "cell_type": "code",
   "execution_count": 331,
   "metadata": {},
   "outputs": [
    {
     "name": "stdout",
     "output_type": "stream",
     "text": [
      "-67.0 10\n"
     ]
    }
   ],
   "source": [
    "state = Ising(4,2,3.5)\n",
    "E,M = metropolis_sweep(state,1)\n",
    "print(E,M)"
   ]
  }
 ],
 "metadata": {
  "kernelspec": {
   "display_name": "Python 3",
   "language": "python",
   "name": "python3"
  },
  "language_info": {
   "codemirror_mode": {
    "name": "ipython",
    "version": 3
   },
   "file_extension": ".py",
   "mimetype": "text/x-python",
   "name": "python",
   "nbconvert_exporter": "python",
   "pygments_lexer": "ipython3",
   "version": "3.6.4"
  }
 },
 "nbformat": 4,
 "nbformat_minor": 2
}
