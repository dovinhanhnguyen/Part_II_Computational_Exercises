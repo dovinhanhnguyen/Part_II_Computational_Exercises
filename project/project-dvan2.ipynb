{
 "cells": [
  {
   "cell_type": "code",
   "execution_count": null,
   "metadata": {},
   "outputs": [],
   "source": [
    "# Import modules\n",
    "import numpy as np\n",
    "import matplotlib.pyplot as plt\n",
    "from scipy import optimize\n",
    "import time"
   ]
  },
  {
   "cell_type": "code",
   "execution_count": null,
   "metadata": {},
   "outputs": [],
   "source": [
    "# Class representing a 2D Ising model\n",
    "class Ising:\n",
    "    def __init__(self, N, J, H):\n",
    "        self.lattice = np.random.choice([-1,1], size=(N,N)) # initial state\n",
    "        self.N = N # dimension\n",
    "        self.J = np.abs(J) # interaction energy, non-negative by definition\n",
    "        self.H = H # external field"
   ]
  },
  {
   "cell_type": "code",
   "execution_count": null,
   "metadata": {},
   "outputs": [],
   "source": [
    "# Function to calculate energy change when spin(i,j) is flipped, assuming periodic boundary conditions\n",
    "def energy_change_of_flip(state, pos_i, pos_j):\n",
    "    return 2*state.lattice[pos_i,pos_j]*(state.J*(state.lattice[pos_i,(pos_j+1)%state.N] + state.lattice[(pos_i-1)%state.N,pos_j] + state.lattice[(pos_i+1)%state.N,pos_j] + state.lattice[pos_i,(pos_j-1)%state.N])+state.H)"
   ]
  },
  {
   "cell_type": "code",
   "execution_count": null,
   "metadata": {},
   "outputs": [],
   "source": [
    "# Monte Carlo sweep using Metropolis algorithm\n",
    "def monte_carlo_sweep(state, temperature):\n",
    "    for i in range(len(state.lattice)**2):\n",
    "        # pick a spin randomly and calculate energy change if it's flipped\n",
    "        pos_i = np.random.randint(0,len(state.lattice))\n",
    "        pos_j = np.random.randint(0,len(state.lattice))\n",
    "        delta_E = energy_change_of_flip(state,pos_i,pos_j)\n",
    "        \n",
    "        # to flip or not to flip?\n",
    "        if delta_E < 0 or np.exp(-delta_E/temperature) > np.random.random():\n",
    "            state.lattice[pos_i,pos_j] *= -1"
   ]
  },
  {
   "cell_type": "code",
   "execution_count": null,
   "metadata": {},
   "outputs": [],
   "source": [
    "# Function to calculate magnetisation\n",
    "def calculate_magnetisation(state):\n",
    "    return np.sum(state.lattice)"
   ]
  },
  {
   "cell_type": "code",
   "execution_count": null,
   "metadata": {},
   "outputs": [],
   "source": [
    "# Function to calculate energy\n",
    "def calculate_energy(state):\n",
    "    interaction_energy = 0.0\n",
    "    for pos_i in range(len(state.lattice)):\n",
    "        for pos_j in range(len(state.lattice)):\n",
    "            interaction_energy += -state.J*state.lattice[pos_i,pos_j]*(state.lattice[pos_i,(pos_j+1)%state.N] + state.lattice[(pos_i-1)%state.N,pos_j] + state.lattice[(pos_i+1)%state.N,pos_j] + state.lattice[pos_i,(pos_j-1)%state.N])\n",
    "    interaction_energy *= 0.5 # avoid double counting\n",
    "    \n",
    "    magnetisation_energy = -state.H*calculate_magnetisation(state)\n",
    "    \n",
    "    return interaction_energy+magnetisation_energy"
   ]
  },
  {
   "cell_type": "code",
   "execution_count": null,
   "metadata": {},
   "outputs": [],
   "source": [
    "# Function to normalize data by number of lattice sites\n",
    "def normalize_data(data, N):\n",
    "    return data/(N**2)"
   ]
  },
  {
   "cell_type": "code",
   "execution_count": null,
   "metadata": {},
   "outputs": [],
   "source": [
    "# Metropolis algorithm\n",
    "def Metropolis_algorithm(N_range, J, H, T_range, no_of_sweeps):\n",
    "    # arrays to store magnetisation and energy time series\n",
    "    M = np.zeros((len(N_range),len(T_range),no_of_sweeps))\n",
    "    E = np.zeros((len(N_range),len(T_range),no_of_sweeps))\n",
    "    M_normalized = np.zeros((len(N_range),len(T_range),no_of_sweeps))\n",
    "    E_normalized = np.zeros((len(N_range),len(T_range),no_of_sweeps))\n",
    "    run_time = np.zeros((len(N_range),len(T_range)))\n",
    "    \n",
    "    # Monte Carlo sweeps\n",
    "    for N_index in range(len(N_range)):\n",
    "        for T_index in range(len(T_range)):\n",
    "            state = Ising(N_range[N_index],J,H)\n",
    "            \n",
    "            t0 = time.time()\n",
    "            for sweep in range(no_of_sweeps): # run!\n",
    "                monte_carlo_sweep(state,T_range[T_index])\n",
    "                \n",
    "                M[N_index,T_index,sweep] = calculate_magnetisation(state)\n",
    "                E[N_index,T_index,sweep] = calculate_energy(state)\n",
    "                M_normalized[N_index,T_index,sweep] = normalize_data(M[N_index,T_index,sweep],state.N)\n",
    "                E_normalized[N_index,T_index,sweep] = normalize_data(E[N_index,T_index,sweep],state.N)\n",
    "                \n",
    "                if sweep%1000 == 0: # output checkpoints\n",
    "                    print('N = {0}, T = {1}, sweep = {2}'.format(N_range[N_index],T_range[T_index],sweep))\n",
    "            t1 = time.time()\n",
    "            run_time[N_index,T_index] = t1-t0\n",
    "    \n",
    "    return M, E, M_normalized, E_normalized, run_time"
   ]
  },
  {
   "cell_type": "code",
   "execution_count": null,
   "metadata": {},
   "outputs": [],
   "source": [
    "# Function to plot evolution of data over time\n",
    "def plot_time_series(data, N_range, N_index_range, T_range, T_index_range, start_point, stop_point, xname, yname):\n",
    "    for N_index in N_index_range:\n",
    "        for T_index in T_index_range:\n",
    "            plt.plot(range(start_point,stop_point),data[N_index,T_index,start_point:stop_point],label='N = {0}, T = {1:.3f}'.format(N_range[N_index],T_range[T_index]))\n",
    "        plt.legend(loc='upper right')\n",
    "        plt.xlabel(xname)\n",
    "        plt.ylabel(yname)\n",
    "        plt.savefig('plots/{0} vs {1} N = {2} from {3} to {4}.pdf'.format(yname,xname,N_range[N_index],start_point,stop_point))\n",
    "        plt.figure()"
   ]
  },
  {
   "cell_type": "code",
   "execution_count": null,
   "metadata": {},
   "outputs": [],
   "source": [
    "# Function to calculate the average of a thermodynamic variable\n",
    "def calculate_thermodynamic_variable(data, N_range, T_range, no_of_equilibrating_sweeps):\n",
    "    var = np.zeros((len(N_range),len(T_range)))\n",
    "    \n",
    "    for N_index in range(len(N_range)):\n",
    "        for T_index in range(len(T_range)):\n",
    "            var[N_index,T_index] = np.sum(data[N_index,T_index,no_of_equilibrating_sweeps:])/len(data[N_index,T_index,no_of_equilibrating_sweeps:])\n",
    "        var[N_index,:] = normalize_data(var[N_index,:],N_range[N_index])\n",
    "    \n",
    "    return var"
   ]
  },
  {
   "cell_type": "code",
   "execution_count": null,
   "metadata": {},
   "outputs": [],
   "source": [
    "# Function to calculate the average of a derivative thermodynamic variable\n",
    "def calculate_derivative_thermodynamic_average(data, N_range, T_range, power_of_T, no_of_equilibrating_sweeps):\n",
    "    var = np.zeros((len(N_range),len(T_range)))\n",
    "    \n",
    "    for N_index in range(len(N_range)):\n",
    "        for T_index in range(len(T_range)):\n",
    "            ave = np.sum(data[N_index,T_index,no_of_equilibrating_sweeps:])/len(data[N_index,T_index,no_of_equilibrating_sweeps:])\n",
    "            squared_ave = np.sum(data[N_index,T_index,no_of_equilibrating_sweeps:]**2)/len(data[N_index,T_index,no_of_equilibrating_sweeps:])\n",
    "            var[N_index,T_index] = (squared_ave-ave**2)/(T_range[T_index]**power_of_T)\n",
    "        var[N_index,:] = normalize_data(var[N_index,:],N_range[N_index])\n",
    "    \n",
    "    return var"
   ]
  },
  {
   "cell_type": "code",
   "execution_count": null,
   "metadata": {},
   "outputs": [],
   "source": [
    "# Function to plot thermodynamic variable against temperature\n",
    "def plot_temperature_dependence(data, N_range, N_index_range, T_range, T_index_range, xname, yname):\n",
    "    for N_index in N_index_range:\n",
    "        plt.plot(T_range[T_index_range[0]:(T_index_range[-1]+1)],data[N_index,T_index_range[0]:(T_index_range[-1]+1)],'-o',label='N = {0}'.format(N_range[N_index]))\n",
    "        # +1 to include last element\n",
    "    plt.legend(loc='best')\n",
    "    plt.xlabel(xname)\n",
    "    plt.ylabel(yname)\n",
    "    plt.savefig('plots/{0} vs {1} from {2:.3f} to {3:.3f}.pdf'.format(yname,xname,T_range[T_index_range[0]],T_range[T_index_range[-1]]))\n",
    "    plt.figure()"
   ]
  },
  {
   "cell_type": "code",
   "execution_count": null,
   "metadata": {},
   "outputs": [],
   "source": [
    "# Function to calculate the autocorrelation of a variable\n",
    "def calculate_autocovariation(data, N_range, T_range, no_of_sweeps, no_of_equilibrating_sweeps):\n",
    "    no_of_sampling_sweeps = no_of_sweeps-no_of_equilibrating_sweeps\n",
    "    autocovariation = np.zeros((len(N_range),len(T_range),no_of_sampling_sweeps))\n",
    "    \n",
    "    for N_index in range(len(N_range)):\n",
    "        for T_index in range(len(T_range)):\n",
    "            ave = np.sum(data[N_index,T_index,:])/no_of_sampling_sweeps\n",
    "            for tau in range(no_of_sampling_sweeps):\n",
    "                autocorr = 0.0\n",
    "                for i in range(no_of_equilibrating_sweeps,no_of_sweeps-tau):\n",
    "                    autocorr += (data[N_index,T_index,i]-ave)*(data[N_index,T_index,i+tau]-ave)\n",
    "                autocovariation[N_index,T_index,tau] = autocorr\n",
    "            if autocovariation[N_index,T_index,0] == 0:\n",
    "                autocovariation[N_index,T_index,:] = np.ones(no_of_sampling_sweeps)\n",
    "            else:\n",
    "                autocovariation[N_index,T_index,:] = autocovariation[N_index,T_index,:]/autocovariation[N_index,T_index,0]\n",
    "    \n",
    "    return autocovariation"
   ]
  },
  {
   "cell_type": "code",
   "execution_count": null,
   "metadata": {},
   "outputs": [],
   "source": [
    "# Function of magnetisation near Tc\n",
    "def shape_function(x, a, Tc, b):\n",
    "        return a*(((Tc-x)/Tc)**b)"
   ]
  },
  {
   "cell_type": "code",
   "execution_count": null,
   "metadata": {},
   "outputs": [],
   "source": [
    "# Function to fit data\n",
    "def data_fitting(data, N_range, N_index_range, T_range, T_index_range, guess):\n",
    "    x_data = np.zeros((len(N_index_range),len(T_index_range)))\n",
    "    y_data = np.zeros((len(N_index_range),len(T_index_range))) # data sliced by N_index_range and T_index_range\n",
    "    for N_index in range(len(N_index_range)):\n",
    "        for T_index in range(len(T_index_range)):\n",
    "            x_data[N_index,T_index] = T_range[T_index_range[T_index]]\n",
    "            y_data[N_index,T_index] = data[N_index_range[N_index],T_index_range[T_index]]\n",
    "    \n",
    "    params = np.zeros((len(N_index_range),3))\n",
    "    errs = np.zeros((len(N_index_range),3))\n",
    "    \n",
    "    for N_index in range(len(N_index_range)):\n",
    "        popt, pcov = optimize.curve_fit(shape_function,x_data[N_index,:],y_data[N_index,:],guess)\n",
    "        params[N_index,:] = popt\n",
    "        errs[N_index,:] = pcov.diagonal()\n",
    "    \n",
    "    return params, errs"
   ]
  },
  {
   "cell_type": "code",
   "execution_count": null,
   "metadata": {},
   "outputs": [],
   "source": [
    "# Set parameters and run the experiment!!!\n",
    "Ns = [10]\n",
    "J = 1.0\n",
    "H = 0.0\n",
    "Ts = np.linspace(1.8,2.26,40)\n",
    "sweeps = 12000\n",
    "equilibrating_sweeps = 2000\n",
    "\n",
    "magnetisation, energy, magnetisation_per_site, energy_per_site, run_time = Metropolis_algorithm(Ns,J,H,Ts,sweeps)"
   ]
  },
  {
   "cell_type": "code",
   "execution_count": null,
   "metadata": {},
   "outputs": [],
   "source": [
    "# Plot time evolution\n",
    "N_indices = range(len(Ns))\n",
    "T_indices = [0,19,39]\n",
    "startpt = 0\n",
    "stoppt = sweeps\n",
    "plot_time_series(magnetisation_per_site,Ns,N_indices,Ts,T_indices,startpt,stoppt,'Sweeps','Magnetisation per site')"
   ]
  },
  {
   "cell_type": "code",
   "execution_count": null,
   "metadata": {},
   "outputs": [],
   "source": [
    "# Plot run time vs N to investigate program complexity\n",
    "run_time_data = np.zeros(len(Ns))\n",
    "for N_index in N_indices:\n",
    "    run_time_data[N_index] = np.average(run_time[N_index,:])\n",
    "plt.plot(Ns,run_time_data,'-o')\n",
    "plt.xlabel('Lattice size N')\n",
    "plt.ylabel('Run time (s)')\n",
    "plt.savefig('plots/Run time vs Lattice size.pdf')"
   ]
  },
  {
   "cell_type": "code",
   "execution_count": null,
   "metadata": {},
   "outputs": [],
   "source": [
    "# How total magnetisation fluctuates with time when system is in equilibrium\n",
    "magnetisation_autocovariance = calculate_autocovariation(magnetisation,Ns,Ts,sweeps,equilibrating_sweeps)"
   ]
  },
  {
   "cell_type": "code",
   "execution_count": null,
   "metadata": {},
   "outputs": [],
   "source": [
    "# Plot autocovariance of total magnetisation\n",
    "N_indices = range(len(Ns))\n",
    "T_indices = range(26,31)\n",
    "startpt = 0\n",
    "stoppt = sweeps\n",
    "plot_time_series(magnetisation_autocovariance,Ns,N_indices,Ts,T_indices,startpt,stoppt,'tau','Autocorrelation')"
   ]
  },
  {
   "cell_type": "code",
   "execution_count": null,
   "metadata": {},
   "outputs": [],
   "source": [
    "# Calculate thermodynamic variables\n",
    "average_magnetisation = calculate_thermodynamic_variable(np.abs(magnetisation),Ns,Ts,equilibrating_sweeps)\n",
    "average_energy = calculate_thermodynamic_variable(energy,Ns,Ts,equilibrating_sweeps)\n",
    "average_susceptibility = calculate_derivative_thermodynamic_average(np.abs(magnetisation),Ns,Ts,1,equilibrating_sweeps)\n",
    "average_heat_capacity = calculate_derivative_thermodynamic_average(energy,Ns,Ts,2,equilibrating_sweeps)"
   ]
  },
  {
   "cell_type": "code",
   "execution_count": null,
   "metadata": {},
   "outputs": [],
   "source": [
    "# Plot thermodynamic variables\n",
    "N_indices = range(len(Ns))\n",
    "T_indices = range(len(Ts))\n",
    "plot_temperature_dependence(average_magnetisation,Ns,N_indices,Ts,T_indices,'Temperature','Average Magnetisation')\n",
    "plot_temperature_dependence(average_energy,Ns,N_indices,Ts,T_indices,'Temperature','Average Energy')\n",
    "plot_temperature_dependence(average_susceptibility,Ns,N_indices,Ts,T_indices,'Temperature','Average Susceptibility')\n",
    "plot_temperature_dependence(average_heat_capacity,Ns,N_indices,Ts,T_indices,'Temperature','Average Heat Capacity')"
   ]
  },
  {
   "cell_type": "code",
   "execution_count": null,
   "metadata": {},
   "outputs": [],
   "source": [
    "# Fit magnetisation\n",
    "N_indices = range(len(Ns))\n",
    "T_indices = range(len(Ts))\n",
    "parameters, errors = data_fitting(average_magnetisation,Ns,N_indices,Ts,T_indices,[0.,2.269,0.125])\n",
    "print(parameters, errors)"
   ]
  },
  {
   "cell_type": "code",
   "execution_count": null,
   "metadata": {},
   "outputs": [],
   "source": [
    "# Plot fitted vs measured data\n",
    "for N_index in N_indices:\n",
    "    plt.plot(Ts[:],average_magnetisation[N_index,:],'-o',label='measured data')\n",
    "    plt.plot(Ts[T_indices],shape_function(Ts[T_indices],parameters[N_index,0],parameters[N_index,1],parameters[N_index,2]),label='fitted data, N = {0}, Tc = {1:.3f}, beta = {2:.3f}'.format(Ns[N_index],parameters[N_index,1],parameters[N_index,2]))\n",
    "    plt.legend(loc='best')\n",
    "    plt.xlabel('Temperature')\n",
    "    plt.ylabel('Average Magnetisation')\n",
    "    plt.savefig('plots/Fitted vs Measured Magnetisation N = {0}.pdf'.format(Ns[N_index]))\n",
    "    plt.figure()"
   ]
  }
 ],
 "metadata": {
  "kernelspec": {
   "display_name": "Python 3",
   "language": "python",
   "name": "python3"
  },
  "language_info": {
   "codemirror_mode": {
    "name": "ipython",
    "version": 3
   },
   "file_extension": ".py",
   "mimetype": "text/x-python",
   "name": "python",
   "nbconvert_exporter": "python",
   "pygments_lexer": "ipython3",
   "version": "3.6.4"
  }
 },
 "nbformat": 4,
 "nbformat_minor": 2
}
